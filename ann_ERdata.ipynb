{
 "cells": [
  {
   "cell_type": "markdown",
   "metadata": {},
   "source": [
    "# Artificial Neural Network for Emergency Room: Predicting Acuity level"
   ]
  },
  {
   "cell_type": "markdown",
   "metadata": {},
   "source": [
    "## Data Preprocessing"
   ]
  },
  {
   "cell_type": "code",
   "execution_count": null,
   "metadata": {
    "collapsed": true
   },
   "outputs": [],
   "source": [
    "# import the libraries\n",
    "\n",
    "import numpy as np\n",
    "import matplotlib.pyplot as plt\n",
    "import pandas as pd\n",
    "\n",
    "# Importing the dataset\n",
    "dataset = pd.read_csv('C:/Users/Himanshu/Desktop/PatientArrivalData_cleaned.csv')\n",
    "X = dataset.iloc[:, 0:7].values #index of columns in the independent (predictor) variables\n",
    "y = dataset.iloc[:, 7].values #col 8 (what we are predicting)\n",
    "\n",
    "# Splitting the dataset into the Training set and Test set\n",
    "from sklearn.model_selection import train_test_split\n",
    "X_train, X_test, y_train, y_test = train_test_split(X, y, test_size = 0.2, random_state = 0)\n",
    "# test size=0.2 means 20% of total rows is test (8000 train, 2000 test)\n",
    "\n",
    "# Feature Scaling - MUST scale for any NN model\n",
    "from sklearn.preprocessing import StandardScaler\n",
    "sc = StandardScaler()\n",
    "X_train = sc.fit_transform(X_train)\n",
    "X_test = sc.transform(X_test)"
   ]
  },
  {
   "cell_type": "markdown",
   "metadata": {},
   "source": [
    "## Model Building"
   ]
  },
  {
   "cell_type": "code",
   "execution_count": null,
   "metadata": {
    "collapsed": true
   },
   "outputs": [],
   "source": [
    "# Importing the Keras libraries and packages\n",
    "import keras\n",
    "from keras.models import Sequential # used to initialize NN\n",
    "from keras.layers import Dense # model to create different layers in NN\n",
    "\n",
    "# Initialising the ANN\n",
    "classifier = Sequential()\n",
    "\n",
    "# Adding the input layer and the first hidden layer\n",
    "classifier.add(Dense(units = 4, kernel_initializer = 'uniform', activation = 'relu', input_dim = 7))\n",
    "# dense helps to put an initial weight (needs to start somewhere)\n",
    "# add (layer) will add a layer\n",
    "# 4 nodes in the hidden layer (tip: input nodes + output nodes /2), and tells next layer no. of nodes to expect\n",
    "# uniform is to randomly initialize the weights to a uniform distribution\n",
    "# activation is the function you will use (relu is rectifier)\n",
    "# input dim --> number of inputs from input layer\n",
    "\n",
    "# Adding the second hidden layer\n",
    "classifier.add(Dense(units = 4, kernel_initializer = 'uniform', activation = 'relu'))\n",
    "# knows what inputs to expect because there is already an input layer created\n",
    "\n",
    "# Adding the output layer\n",
    "classifier.add(Dense(units = 1, kernel_initializer = 'uniform', activation = 'sigmoid'))\n",
    "# 1 unit because output has only 1 node\n",
    "\n",
    "# Compiling the ANN\n",
    "classifier.compile(optimizer = 'adam', loss = 'binary_crossentropy', metrics = ['accuracy'])\n",
    "# using adam optimizer --> algorithm to use to find the optimal weights\n",
    "# loss: need to have a loss function (which you are trying to minimize), binary crossentropy for binary output\n",
    "# \n",
    "                                     \n",
    "# Fitting the ANN to the Training set and training the ANN\n",
    "classifier.fit(X_train, y_train, batch_size = 10, epochs = 50)\n",
    "# fit(training set, ouput of training set, batch size, epochs)\n",
    "# batch size: how many observations pass through before we update the weights\n",
    "# epochs: number of times the whole training set goes through ANN"
   ]
  },
  {
   "cell_type": "markdown",
   "metadata": {},
   "source": [
    "## Making predictions and evaluating the model"
   ]
  },
  {
   "cell_type": "code",
   "execution_count": null,
   "metadata": {
    "collapsed": true
   },
   "outputs": [],
   "source": [
    " Predicting the Test set results\n",
    "y_pred = classifier.predict(X_test) # gives prediction for each observation in test set\n",
    "y_pred = (y_pred > 0.9) #threshold of 0.5, so over means churn, under means dont churn\n",
    "# use higher threshold for sensitive info (like medicine)\n",
    "# now in y_pred dataframe, it gives answer as true/false, rather than just probability\n",
    "        \n",
    "# Making the Confusion Matrix\n",
    "from sklearn.metrics import confusion_matrix\n",
    "cm = confusion_matrix(y_test, y_pred)\n",
    "\n",
    "'''checking acuity for a new row: e.g. patient with:\n",
    "Age: 33\n",
    "PCP: Yes\n",
    "systolic: 155\n",
    "diastolic: 99\n",
    "pulse: 83\n",
    "resp. rate: 19\n",
    "temp: 99.2\n",
    "'''\n",
    "# add the inputs and apply feature scaling\n",
    "sample_patient = sc.transform(np.array([[65,0,180,101,101,28,99.2]]))\n",
    "sample_pred = classifier.predict(sample_patient)"
   ]
  }
 ],
 "metadata": {
  "kernelspec": {
   "display_name": "Python 3",
   "language": "python",
   "name": "python3"
  },
  "language_info": {
   "codemirror_mode": {
    "name": "ipython",
    "version": 3
   },
   "file_extension": ".py",
   "mimetype": "text/x-python",
   "name": "python",
   "nbconvert_exporter": "python",
   "pygments_lexer": "ipython3",
   "version": "3.6.1"
  }
 },
 "nbformat": 4,
 "nbformat_minor": 2
}
